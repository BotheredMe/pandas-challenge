{
 "cells": [
  {
   "cell_type": "markdown",
   "metadata": {},
   "source": [
    "### Note\n",
    "* Instructions have been included for each segment. You do not have to follow them exactly, but they are included to help you think through the steps."
   ]
  },
  {
   "cell_type": "code",
   "execution_count": 1,
   "metadata": {},
   "outputs": [],
   "source": [
    "# Dependencies and Setup\n",
    "import pandas as pd\n",
    "\n",
    "# File to Load (Remember to Change These)\n",
    "file_to_load = \"Resources/purchase_data.csv\"\n",
    "\n",
    "# Read Purchasing File and store into Pandas data frame\n",
    "purchase_data = pd.read_csv(file_to_load)"
   ]
  },
  {
   "cell_type": "markdown",
   "metadata": {},
   "source": [
    "## Player Count"
   ]
  },
  {
   "cell_type": "markdown",
   "metadata": {},
   "source": [
    "* Display the total number of players\n"
   ]
  },
  {
   "cell_type": "code",
   "execution_count": 2,
   "metadata": {},
   "outputs": [
    {
     "data": {
      "text/html": [
       "<div>\n",
       "<style scoped>\n",
       "    .dataframe tbody tr th:only-of-type {\n",
       "        vertical-align: middle;\n",
       "    }\n",
       "\n",
       "    .dataframe tbody tr th {\n",
       "        vertical-align: top;\n",
       "    }\n",
       "\n",
       "    .dataframe thead th {\n",
       "        text-align: right;\n",
       "    }\n",
       "</style>\n",
       "<table border=\"1\" class=\"dataframe\">\n",
       "  <thead>\n",
       "    <tr style=\"text-align: right;\">\n",
       "      <th></th>\n",
       "      <th>Total Players</th>\n",
       "    </tr>\n",
       "  </thead>\n",
       "  <tbody>\n",
       "    <tr>\n",
       "      <td>0</td>\n",
       "      <td>576</td>\n",
       "    </tr>\n",
       "  </tbody>\n",
       "</table>\n",
       "</div>"
      ],
      "text/plain": [
       "   Total Players\n",
       "0            576"
      ]
     },
     "execution_count": 2,
     "metadata": {},
     "output_type": "execute_result"
    }
   ],
   "source": [
    "unique_players = len(purchase_data[\"SN\"].unique())\n",
    "\n",
    "total_players = pd.DataFrame({\"Total Players\":[unique_players]})\n",
    "total_players"
   ]
  },
  {
   "cell_type": "markdown",
   "metadata": {},
   "source": [
    "## Purchasing Analysis (Total)"
   ]
  },
  {
   "cell_type": "markdown",
   "metadata": {},
   "source": [
    "* Run basic calculations to obtain number of unique items, average price, etc.\n",
    "\n",
    "\n",
    "* Create a summary data frame to hold the results\n",
    "\n",
    "\n",
    "* Optional: give the displayed data cleaner formatting\n",
    "\n",
    "\n",
    "* Display the summary data frame\n"
   ]
  },
  {
   "cell_type": "code",
   "execution_count": 3,
   "metadata": {},
   "outputs": [
    {
     "data": {
      "text/html": [
       "<style  type=\"text/css\" >\n",
       "</style><table id=\"T_04641ac0_3046_11ea_9bea_7446a08c0829\" ><thead>    <tr>        <th class=\"blank level0\" ></th>        <th class=\"col_heading level0 col0\" >Number of Unique Items</th>        <th class=\"col_heading level0 col1\" >Average Price</th>        <th class=\"col_heading level0 col2\" >Number of Purchases</th>        <th class=\"col_heading level0 col3\" >Total Revenue</th>    </tr></thead><tbody>\n",
       "                <tr>\n",
       "                        <th id=\"T_04641ac0_3046_11ea_9bea_7446a08c0829level0_row0\" class=\"row_heading level0 row0\" >0</th>\n",
       "                        <td id=\"T_04641ac0_3046_11ea_9bea_7446a08c0829row0_col0\" class=\"data row0 col0\" >183</td>\n",
       "                        <td id=\"T_04641ac0_3046_11ea_9bea_7446a08c0829row0_col1\" class=\"data row0 col1\" >$3.05</td>\n",
       "                        <td id=\"T_04641ac0_3046_11ea_9bea_7446a08c0829row0_col2\" class=\"data row0 col2\" >780</td>\n",
       "                        <td id=\"T_04641ac0_3046_11ea_9bea_7446a08c0829row0_col3\" class=\"data row0 col3\" >$2,379.77</td>\n",
       "            </tr>\n",
       "    </tbody></table>"
      ],
      "text/plain": [
       "<pandas.io.formats.style.Styler at 0x7763b88>"
      ]
     },
     "execution_count": 3,
     "metadata": {},
     "output_type": "execute_result"
    }
   ],
   "source": [
    "unique_items = len((purchase_data[\"Item ID\"]).unique())\n",
    "average_price = (purchase_data[\"Price\"]).mean()\n",
    "total_purchases = (purchase_data[\"Purchase ID\"]).count()\n",
    "total_revenue = (purchase_data[\"Price\"]).sum()\n",
    "\n",
    "item_summary = pd.DataFrame({\n",
    "    \"Number of Unique Items\":[unique_items],\n",
    "    \"Average Price\":[average_price], \n",
    "    \"Number of Purchases\": [total_purchases], \n",
    "    \"Total Revenue\": [total_revenue]})\n",
    "item_summary.style.format({\n",
    "    \"Average Price\":\"${:,.2f}\",\n",
    "    \"Total Revenue\":\"${:,.2f}\"})\n"
   ]
  },
  {
   "cell_type": "markdown",
   "metadata": {},
   "source": [
    "## Gender Demographics"
   ]
  },
  {
   "cell_type": "markdown",
   "metadata": {},
   "source": [
    "* Percentage and Count of Male Players\n",
    "\n",
    "\n",
    "* Percentage and Count of Female Players\n",
    "\n",
    "\n",
    "* Percentage and Count of Other / Non-Disclosed\n",
    "\n",
    "\n"
   ]
  },
  {
   "cell_type": "code",
   "execution_count": 4,
   "metadata": {},
   "outputs": [
    {
     "data": {
      "text/html": [
       "<style  type=\"text/css\" >\n",
       "</style><table id=\"T_04752a18_3046_11ea_9b3e_7446a08c0829\" ><thead>    <tr>        <th class=\"blank level0\" ></th>        <th class=\"col_heading level0 col0\" >Total Count</th>        <th class=\"col_heading level0 col1\" >Percentage of Players</th>    </tr>    <tr>        <th class=\"index_name level0\" >Gender</th>        <th class=\"blank\" ></th>        <th class=\"blank\" ></th>    </tr></thead><tbody>\n",
       "                <tr>\n",
       "                        <th id=\"T_04752a18_3046_11ea_9b3e_7446a08c0829level0_row0\" class=\"row_heading level0 row0\" >Male</th>\n",
       "                        <td id=\"T_04752a18_3046_11ea_9b3e_7446a08c0829row0_col0\" class=\"data row0 col0\" >484</td>\n",
       "                        <td id=\"T_04752a18_3046_11ea_9b3e_7446a08c0829row0_col1\" class=\"data row0 col1\" >84.03%</td>\n",
       "            </tr>\n",
       "            <tr>\n",
       "                        <th id=\"T_04752a18_3046_11ea_9b3e_7446a08c0829level0_row1\" class=\"row_heading level0 row1\" >Female</th>\n",
       "                        <td id=\"T_04752a18_3046_11ea_9b3e_7446a08c0829row1_col0\" class=\"data row1 col0\" >81</td>\n",
       "                        <td id=\"T_04752a18_3046_11ea_9b3e_7446a08c0829row1_col1\" class=\"data row1 col1\" >14.06%</td>\n",
       "            </tr>\n",
       "            <tr>\n",
       "                        <th id=\"T_04752a18_3046_11ea_9b3e_7446a08c0829level0_row2\" class=\"row_heading level0 row2\" >Other / Non-Disclosed</th>\n",
       "                        <td id=\"T_04752a18_3046_11ea_9b3e_7446a08c0829row2_col0\" class=\"data row2 col0\" >11</td>\n",
       "                        <td id=\"T_04752a18_3046_11ea_9b3e_7446a08c0829row2_col1\" class=\"data row2 col1\" >1.91%</td>\n",
       "            </tr>\n",
       "    </tbody></table>"
      ],
      "text/plain": [
       "<pandas.io.formats.style.Styler at 0x9518cc8>"
      ]
     },
     "execution_count": 4,
     "metadata": {},
     "output_type": "execute_result"
    }
   ],
   "source": [
    "gender_group = purchase_data.groupby(\"Gender\")\n",
    "total_players_gender = gender_group[\"SN\"].nunique()\n",
    "percentage_of_players = (total_players_gender / unique_players) * 100\n",
    "gender_demographics = pd.DataFrame({\"Total Count\": total_players_gender, \n",
    "    \"Percentage of Players\": percentage_of_players})\n",
    "gender_demographics.index.name = \"Gender\"\n",
    "gender_demographics.sort_values([\"Total Count\"], ascending = False).style.format(\n",
    "    {\"Percentage of Players\":\"{:.2f}%\"})"
   ]
  },
  {
   "cell_type": "markdown",
   "metadata": {},
   "source": [
    "\n",
    "## Purchasing Analysis (Gender)"
   ]
  },
  {
   "cell_type": "markdown",
   "metadata": {},
   "source": [
    "* Run basic calculations to obtain purchase count, avg. purchase price, avg. purchase total per person etc. by gender\n",
    "\n",
    "\n",
    "\n",
    "\n",
    "* Create a summary data frame to hold the results\n",
    "\n",
    "\n",
    "* Optional: give the displayed data cleaner formatting\n",
    "\n",
    "\n",
    "* Display the summary data frame"
   ]
  },
  {
   "cell_type": "code",
   "execution_count": 5,
   "metadata": {},
   "outputs": [
    {
     "data": {
      "text/html": [
       "<style  type=\"text/css\" >\n",
       "</style><table id=\"T_047c5622_3046_11ea_942a_7446a08c0829\" ><thead>    <tr>        <th class=\"blank level0\" ></th>        <th class=\"col_heading level0 col0\" >Purchase Count</th>        <th class=\"col_heading level0 col1\" >Average Purchase Price</th>        <th class=\"col_heading level0 col2\" >Total Purchase Value</th>        <th class=\"col_heading level0 col3\" >Avg Total Purchase per Person</th>    </tr>    <tr>        <th class=\"index_name level0\" >Gender</th>        <th class=\"blank\" ></th>        <th class=\"blank\" ></th>        <th class=\"blank\" ></th>        <th class=\"blank\" ></th>    </tr></thead><tbody>\n",
       "                <tr>\n",
       "                        <th id=\"T_047c5622_3046_11ea_942a_7446a08c0829level0_row0\" class=\"row_heading level0 row0\" >Female</th>\n",
       "                        <td id=\"T_047c5622_3046_11ea_942a_7446a08c0829row0_col0\" class=\"data row0 col0\" >113</td>\n",
       "                        <td id=\"T_047c5622_3046_11ea_942a_7446a08c0829row0_col1\" class=\"data row0 col1\" >$3.20</td>\n",
       "                        <td id=\"T_047c5622_3046_11ea_942a_7446a08c0829row0_col2\" class=\"data row0 col2\" >$361.94</td>\n",
       "                        <td id=\"T_047c5622_3046_11ea_942a_7446a08c0829row0_col3\" class=\"data row0 col3\" >$4.47</td>\n",
       "            </tr>\n",
       "            <tr>\n",
       "                        <th id=\"T_047c5622_3046_11ea_942a_7446a08c0829level0_row1\" class=\"row_heading level0 row1\" >Male</th>\n",
       "                        <td id=\"T_047c5622_3046_11ea_942a_7446a08c0829row1_col0\" class=\"data row1 col0\" >652</td>\n",
       "                        <td id=\"T_047c5622_3046_11ea_942a_7446a08c0829row1_col1\" class=\"data row1 col1\" >$3.02</td>\n",
       "                        <td id=\"T_047c5622_3046_11ea_942a_7446a08c0829row1_col2\" class=\"data row1 col2\" >$1,967.64</td>\n",
       "                        <td id=\"T_047c5622_3046_11ea_942a_7446a08c0829row1_col3\" class=\"data row1 col3\" >$4.07</td>\n",
       "            </tr>\n",
       "            <tr>\n",
       "                        <th id=\"T_047c5622_3046_11ea_942a_7446a08c0829level0_row2\" class=\"row_heading level0 row2\" >Other / Non-Disclosed</th>\n",
       "                        <td id=\"T_047c5622_3046_11ea_942a_7446a08c0829row2_col0\" class=\"data row2 col0\" >15</td>\n",
       "                        <td id=\"T_047c5622_3046_11ea_942a_7446a08c0829row2_col1\" class=\"data row2 col1\" >$3.35</td>\n",
       "                        <td id=\"T_047c5622_3046_11ea_942a_7446a08c0829row2_col2\" class=\"data row2 col2\" >$50.19</td>\n",
       "                        <td id=\"T_047c5622_3046_11ea_942a_7446a08c0829row2_col3\" class=\"data row2 col3\" >$4.56</td>\n",
       "            </tr>\n",
       "    </tbody></table>"
      ],
      "text/plain": [
       "<pandas.io.formats.style.Styler at 0x946a208>"
      ]
     },
     "execution_count": 5,
     "metadata": {},
     "output_type": "execute_result"
    }
   ],
   "source": [
    "purchase_count = gender_group[\"Purchase ID\"].count()\n",
    "average_purchase_price = gender_group[\"Price\"].mean()\n",
    "total_purchase_value = gender_group[\"Price\"].sum()\n",
    "average_purchase_per_person = total_purchase_value / total_players_gender\n",
    "\n",
    "gender_demographics = pd.DataFrame({\n",
    "    \"Purchase Count\": purchase_count, \n",
    "    \"Average Purchase Price\": average_purchase_price,\n",
    "    \"Total Purchase Value\": total_purchase_value,\n",
    "    \"Avg Total Purchase per Person\": average_purchase_per_person})\n",
    "\n",
    "gender_demographics.index.name = \"Gender\"\n",
    "gender_demographics.style.format({\n",
    "    \"Total Purchase Value\":\"${:,.2f}\",\n",
    "    \"Average Purchase Price\":\"${:,.2f}\",\n",
    "    \"Avg Total Purchase per Person\":\"${:,.2f}\"})"
   ]
  },
  {
   "cell_type": "markdown",
   "metadata": {},
   "source": [
    "## Age Demographics"
   ]
  },
  {
   "cell_type": "markdown",
   "metadata": {},
   "source": [
    "* Establish bins for ages\n",
    "\n",
    "\n",
    "* Categorize the existing players using the age bins. Hint: use pd.cut()\n",
    "\n",
    "\n",
    "* Calculate the numbers and percentages by age group\n",
    "\n",
    "\n",
    "* Create a summary data frame to hold the results\n",
    "\n",
    "\n",
    "* Optional: round the percentage column to two decimal points\n",
    "\n",
    "\n",
    "* Display Age Demographics Table\n"
   ]
  },
  {
   "cell_type": "code",
   "execution_count": 6,
   "metadata": {},
   "outputs": [
    {
     "data": {
      "text/html": [
       "<style  type=\"text/css\" >\n",
       "</style><table id=\"T_04872bba_3046_11ea_84a5_7446a08c0829\" ><thead>    <tr>        <th class=\"blank level0\" ></th>        <th class=\"col_heading level0 col0\" >Total Count</th>        <th class=\"col_heading level0 col1\" >Percentage of Players</th>    </tr>    <tr>        <th class=\"index_name level0\" >Age</th>        <th class=\"blank\" ></th>        <th class=\"blank\" ></th>    </tr></thead><tbody>\n",
       "                <tr>\n",
       "                        <th id=\"T_04872bba_3046_11ea_84a5_7446a08c0829level0_row0\" class=\"row_heading level0 row0\" ><10</th>\n",
       "                        <td id=\"T_04872bba_3046_11ea_84a5_7446a08c0829row0_col0\" class=\"data row0 col0\" >17</td>\n",
       "                        <td id=\"T_04872bba_3046_11ea_84a5_7446a08c0829row0_col1\" class=\"data row0 col1\" >2.95%</td>\n",
       "            </tr>\n",
       "            <tr>\n",
       "                        <th id=\"T_04872bba_3046_11ea_84a5_7446a08c0829level0_row1\" class=\"row_heading level0 row1\" >10-14</th>\n",
       "                        <td id=\"T_04872bba_3046_11ea_84a5_7446a08c0829row1_col0\" class=\"data row1 col0\" >22</td>\n",
       "                        <td id=\"T_04872bba_3046_11ea_84a5_7446a08c0829row1_col1\" class=\"data row1 col1\" >3.82%</td>\n",
       "            </tr>\n",
       "            <tr>\n",
       "                        <th id=\"T_04872bba_3046_11ea_84a5_7446a08c0829level0_row2\" class=\"row_heading level0 row2\" >15-19</th>\n",
       "                        <td id=\"T_04872bba_3046_11ea_84a5_7446a08c0829row2_col0\" class=\"data row2 col0\" >107</td>\n",
       "                        <td id=\"T_04872bba_3046_11ea_84a5_7446a08c0829row2_col1\" class=\"data row2 col1\" >18.58%</td>\n",
       "            </tr>\n",
       "            <tr>\n",
       "                        <th id=\"T_04872bba_3046_11ea_84a5_7446a08c0829level0_row3\" class=\"row_heading level0 row3\" >20-24</th>\n",
       "                        <td id=\"T_04872bba_3046_11ea_84a5_7446a08c0829row3_col0\" class=\"data row3 col0\" >258</td>\n",
       "                        <td id=\"T_04872bba_3046_11ea_84a5_7446a08c0829row3_col1\" class=\"data row3 col1\" >44.79%</td>\n",
       "            </tr>\n",
       "            <tr>\n",
       "                        <th id=\"T_04872bba_3046_11ea_84a5_7446a08c0829level0_row4\" class=\"row_heading level0 row4\" >25-29</th>\n",
       "                        <td id=\"T_04872bba_3046_11ea_84a5_7446a08c0829row4_col0\" class=\"data row4 col0\" >77</td>\n",
       "                        <td id=\"T_04872bba_3046_11ea_84a5_7446a08c0829row4_col1\" class=\"data row4 col1\" >13.37%</td>\n",
       "            </tr>\n",
       "            <tr>\n",
       "                        <th id=\"T_04872bba_3046_11ea_84a5_7446a08c0829level0_row5\" class=\"row_heading level0 row5\" >30-34</th>\n",
       "                        <td id=\"T_04872bba_3046_11ea_84a5_7446a08c0829row5_col0\" class=\"data row5 col0\" >52</td>\n",
       "                        <td id=\"T_04872bba_3046_11ea_84a5_7446a08c0829row5_col1\" class=\"data row5 col1\" >9.03%</td>\n",
       "            </tr>\n",
       "            <tr>\n",
       "                        <th id=\"T_04872bba_3046_11ea_84a5_7446a08c0829level0_row6\" class=\"row_heading level0 row6\" >35-39</th>\n",
       "                        <td id=\"T_04872bba_3046_11ea_84a5_7446a08c0829row6_col0\" class=\"data row6 col0\" >31</td>\n",
       "                        <td id=\"T_04872bba_3046_11ea_84a5_7446a08c0829row6_col1\" class=\"data row6 col1\" >5.38%</td>\n",
       "            </tr>\n",
       "            <tr>\n",
       "                        <th id=\"T_04872bba_3046_11ea_84a5_7446a08c0829level0_row7\" class=\"row_heading level0 row7\" >40+</th>\n",
       "                        <td id=\"T_04872bba_3046_11ea_84a5_7446a08c0829row7_col0\" class=\"data row7 col0\" >12</td>\n",
       "                        <td id=\"T_04872bba_3046_11ea_84a5_7446a08c0829row7_col1\" class=\"data row7 col1\" >2.08%</td>\n",
       "            </tr>\n",
       "    </tbody></table>"
      ],
      "text/plain": [
       "<pandas.io.formats.style.Styler at 0x950d088>"
      ]
     },
     "execution_count": 6,
     "metadata": {},
     "output_type": "execute_result"
    }
   ],
   "source": [
    "age_bins = [0, 9, 14, 19, 24, 29, 34, 39, 200]\n",
    "age_group_names = [\"<10\", \"10-14\", \"15-19\", \"20-24\", \"25-29\", \"30-34\", \"35-39\", \"40+\"]\n",
    "purchase_data[\"Age Group\"] = pd.cut(purchase_data[\"Age\"],age_bins, labels=age_group_names)\n",
    "\n",
    "age_group = purchase_data.groupby(\"Age Group\")\n",
    "total_count_age = age_group[\"SN\"].nunique() \n",
    "percentage_age = (total_count_age / unique_players) * 100\n",
    "\n",
    "age_demographics = pd.DataFrame({\n",
    "    \"Total Count\": total_count_age, \n",
    "    \"Percentage of Players\": percentage_age})\n",
    "\n",
    "age_demographics.index.name = \"Age\"\n",
    "age_demographics.style.format({\"Percentage of Players\":\"{:,.2f}%\"})"
   ]
  },
  {
   "cell_type": "markdown",
   "metadata": {},
   "source": [
    "## Purchasing Analysis (Age)"
   ]
  },
  {
   "cell_type": "markdown",
   "metadata": {},
   "source": [
    "* Bin the purchase_data data frame by age\n",
    "\n",
    "\n",
    "* Run basic calculations to obtain purchase count, avg. purchase price, avg. purchase total per person etc. in the table below\n",
    "\n",
    "\n",
    "* Create a summary data frame to hold the results\n",
    "\n",
    "\n",
    "* Optional: give the displayed data cleaner formatting\n",
    "\n",
    "\n",
    "* Display the summary data frame"
   ]
  },
  {
   "cell_type": "code",
   "execution_count": 7,
   "metadata": {},
   "outputs": [
    {
     "data": {
      "text/html": [
       "<style  type=\"text/css\" >\n",
       "</style><table id=\"T_048eccf6_3046_11ea_b3e5_7446a08c0829\" ><thead>    <tr>        <th class=\"blank level0\" ></th>        <th class=\"col_heading level0 col0\" >Purchase Count</th>        <th class=\"col_heading level0 col1\" >Average Purchase Price</th>        <th class=\"col_heading level0 col2\" >Total Purchase Value</th>        <th class=\"col_heading level0 col3\" >Avg Total Purchase per Person</th>    </tr>    <tr>        <th class=\"index_name level0\" >Age Ranges</th>        <th class=\"blank\" ></th>        <th class=\"blank\" ></th>        <th class=\"blank\" ></th>        <th class=\"blank\" ></th>    </tr></thead><tbody>\n",
       "                <tr>\n",
       "                        <th id=\"T_048eccf6_3046_11ea_b3e5_7446a08c0829level0_row0\" class=\"row_heading level0 row0\" ><10</th>\n",
       "                        <td id=\"T_048eccf6_3046_11ea_b3e5_7446a08c0829row0_col0\" class=\"data row0 col0\" >23</td>\n",
       "                        <td id=\"T_048eccf6_3046_11ea_b3e5_7446a08c0829row0_col1\" class=\"data row0 col1\" >$3.35</td>\n",
       "                        <td id=\"T_048eccf6_3046_11ea_b3e5_7446a08c0829row0_col2\" class=\"data row0 col2\" >$77.13</td>\n",
       "                        <td id=\"T_048eccf6_3046_11ea_b3e5_7446a08c0829row0_col3\" class=\"data row0 col3\" >$4.54</td>\n",
       "            </tr>\n",
       "            <tr>\n",
       "                        <th id=\"T_048eccf6_3046_11ea_b3e5_7446a08c0829level0_row1\" class=\"row_heading level0 row1\" >10-14</th>\n",
       "                        <td id=\"T_048eccf6_3046_11ea_b3e5_7446a08c0829row1_col0\" class=\"data row1 col0\" >28</td>\n",
       "                        <td id=\"T_048eccf6_3046_11ea_b3e5_7446a08c0829row1_col1\" class=\"data row1 col1\" >$2.96</td>\n",
       "                        <td id=\"T_048eccf6_3046_11ea_b3e5_7446a08c0829row1_col2\" class=\"data row1 col2\" >$82.78</td>\n",
       "                        <td id=\"T_048eccf6_3046_11ea_b3e5_7446a08c0829row1_col3\" class=\"data row1 col3\" >$3.76</td>\n",
       "            </tr>\n",
       "            <tr>\n",
       "                        <th id=\"T_048eccf6_3046_11ea_b3e5_7446a08c0829level0_row2\" class=\"row_heading level0 row2\" >15-19</th>\n",
       "                        <td id=\"T_048eccf6_3046_11ea_b3e5_7446a08c0829row2_col0\" class=\"data row2 col0\" >136</td>\n",
       "                        <td id=\"T_048eccf6_3046_11ea_b3e5_7446a08c0829row2_col1\" class=\"data row2 col1\" >$3.04</td>\n",
       "                        <td id=\"T_048eccf6_3046_11ea_b3e5_7446a08c0829row2_col2\" class=\"data row2 col2\" >$412.89</td>\n",
       "                        <td id=\"T_048eccf6_3046_11ea_b3e5_7446a08c0829row2_col3\" class=\"data row2 col3\" >$3.86</td>\n",
       "            </tr>\n",
       "            <tr>\n",
       "                        <th id=\"T_048eccf6_3046_11ea_b3e5_7446a08c0829level0_row3\" class=\"row_heading level0 row3\" >20-24</th>\n",
       "                        <td id=\"T_048eccf6_3046_11ea_b3e5_7446a08c0829row3_col0\" class=\"data row3 col0\" >365</td>\n",
       "                        <td id=\"T_048eccf6_3046_11ea_b3e5_7446a08c0829row3_col1\" class=\"data row3 col1\" >$3.05</td>\n",
       "                        <td id=\"T_048eccf6_3046_11ea_b3e5_7446a08c0829row3_col2\" class=\"data row3 col2\" >$1,114.06</td>\n",
       "                        <td id=\"T_048eccf6_3046_11ea_b3e5_7446a08c0829row3_col3\" class=\"data row3 col3\" >$4.32</td>\n",
       "            </tr>\n",
       "            <tr>\n",
       "                        <th id=\"T_048eccf6_3046_11ea_b3e5_7446a08c0829level0_row4\" class=\"row_heading level0 row4\" >25-29</th>\n",
       "                        <td id=\"T_048eccf6_3046_11ea_b3e5_7446a08c0829row4_col0\" class=\"data row4 col0\" >101</td>\n",
       "                        <td id=\"T_048eccf6_3046_11ea_b3e5_7446a08c0829row4_col1\" class=\"data row4 col1\" >$2.90</td>\n",
       "                        <td id=\"T_048eccf6_3046_11ea_b3e5_7446a08c0829row4_col2\" class=\"data row4 col2\" >$293.00</td>\n",
       "                        <td id=\"T_048eccf6_3046_11ea_b3e5_7446a08c0829row4_col3\" class=\"data row4 col3\" >$3.81</td>\n",
       "            </tr>\n",
       "            <tr>\n",
       "                        <th id=\"T_048eccf6_3046_11ea_b3e5_7446a08c0829level0_row5\" class=\"row_heading level0 row5\" >30-34</th>\n",
       "                        <td id=\"T_048eccf6_3046_11ea_b3e5_7446a08c0829row5_col0\" class=\"data row5 col0\" >73</td>\n",
       "                        <td id=\"T_048eccf6_3046_11ea_b3e5_7446a08c0829row5_col1\" class=\"data row5 col1\" >$2.93</td>\n",
       "                        <td id=\"T_048eccf6_3046_11ea_b3e5_7446a08c0829row5_col2\" class=\"data row5 col2\" >$214.00</td>\n",
       "                        <td id=\"T_048eccf6_3046_11ea_b3e5_7446a08c0829row5_col3\" class=\"data row5 col3\" >$4.12</td>\n",
       "            </tr>\n",
       "            <tr>\n",
       "                        <th id=\"T_048eccf6_3046_11ea_b3e5_7446a08c0829level0_row6\" class=\"row_heading level0 row6\" >35-39</th>\n",
       "                        <td id=\"T_048eccf6_3046_11ea_b3e5_7446a08c0829row6_col0\" class=\"data row6 col0\" >41</td>\n",
       "                        <td id=\"T_048eccf6_3046_11ea_b3e5_7446a08c0829row6_col1\" class=\"data row6 col1\" >$3.60</td>\n",
       "                        <td id=\"T_048eccf6_3046_11ea_b3e5_7446a08c0829row6_col2\" class=\"data row6 col2\" >$147.67</td>\n",
       "                        <td id=\"T_048eccf6_3046_11ea_b3e5_7446a08c0829row6_col3\" class=\"data row6 col3\" >$4.76</td>\n",
       "            </tr>\n",
       "            <tr>\n",
       "                        <th id=\"T_048eccf6_3046_11ea_b3e5_7446a08c0829level0_row7\" class=\"row_heading level0 row7\" >40+</th>\n",
       "                        <td id=\"T_048eccf6_3046_11ea_b3e5_7446a08c0829row7_col0\" class=\"data row7 col0\" >13</td>\n",
       "                        <td id=\"T_048eccf6_3046_11ea_b3e5_7446a08c0829row7_col1\" class=\"data row7 col1\" >$2.94</td>\n",
       "                        <td id=\"T_048eccf6_3046_11ea_b3e5_7446a08c0829row7_col2\" class=\"data row7 col2\" >$38.24</td>\n",
       "                        <td id=\"T_048eccf6_3046_11ea_b3e5_7446a08c0829row7_col3\" class=\"data row7 col3\" >$3.19</td>\n",
       "            </tr>\n",
       "    </tbody></table>"
      ],
      "text/plain": [
       "<pandas.io.formats.style.Styler at 0x950dc48>"
      ]
     },
     "execution_count": 7,
     "metadata": {},
     "output_type": "execute_result"
    }
   ],
   "source": [
    "purchase_count_age = age_group[\"Purchase ID\"].count()\n",
    "average_purchase_price_age = age_group[\"Price\"].mean()\n",
    "total_purchase_value_age = age_group[\"Price\"].sum()\n",
    "average_purchase_per_person_age = total_purchase_value_age / total_count_age\n",
    "\n",
    "age_demographics = pd.DataFrame({\n",
    "    \"Purchase Count\": purchase_count_age,\n",
    "    \"Average Purchase Price\": average_purchase_price_age,\n",
    "    \"Total Purchase Value\":total_purchase_value_age,\n",
    "    \"Avg Total Purchase per Person\": average_purchase_per_person_age})\n",
    "\n",
    "age_demographics.index.name = \"Age Ranges\"\n",
    "age_demographics.style.format({\n",
    "    \"Average Purchase Price\":\"${:,.2f}\",\n",
    "    \"Total Purchase Value\":\"${:,.2f}\",\n",
    "    \"Avg Total Purchase per Person\":\"${:,.2f}\"})"
   ]
  },
  {
   "cell_type": "markdown",
   "metadata": {},
   "source": [
    "## Top Spenders"
   ]
  },
  {
   "cell_type": "markdown",
   "metadata": {},
   "source": [
    "* Run basic calculations to obtain the results in the table below\n",
    "\n",
    "\n",
    "* Create a summary data frame to hold the results\n",
    "\n",
    "\n",
    "* Sort the total purchase value column in descending order\n",
    "\n",
    "\n",
    "* Optional: give the displayed data cleaner formatting\n",
    "\n",
    "\n",
    "* Display a preview of the summary data frame\n",
    "\n"
   ]
  },
  {
   "cell_type": "code",
   "execution_count": 8,
   "metadata": {},
   "outputs": [
    {
     "data": {
      "text/html": [
       "<style  type=\"text/css\" >\n",
       "</style><table id=\"T_04977fa6_3046_11ea_8b99_7446a08c0829\" ><thead>    <tr>        <th class=\"blank level0\" ></th>        <th class=\"col_heading level0 col0\" >Purchase Count</th>        <th class=\"col_heading level0 col1\" >Average Purchase Price</th>        <th class=\"col_heading level0 col2\" >Total Purchase Value</th>    </tr>    <tr>        <th class=\"index_name level0\" >SN</th>        <th class=\"blank\" ></th>        <th class=\"blank\" ></th>        <th class=\"blank\" ></th>    </tr></thead><tbody>\n",
       "                <tr>\n",
       "                        <th id=\"T_04977fa6_3046_11ea_8b99_7446a08c0829level0_row0\" class=\"row_heading level0 row0\" >Lisosia93</th>\n",
       "                        <td id=\"T_04977fa6_3046_11ea_8b99_7446a08c0829row0_col0\" class=\"data row0 col0\" >5</td>\n",
       "                        <td id=\"T_04977fa6_3046_11ea_8b99_7446a08c0829row0_col1\" class=\"data row0 col1\" >$3.79</td>\n",
       "                        <td id=\"T_04977fa6_3046_11ea_8b99_7446a08c0829row0_col2\" class=\"data row0 col2\" >$18.96</td>\n",
       "            </tr>\n",
       "            <tr>\n",
       "                        <th id=\"T_04977fa6_3046_11ea_8b99_7446a08c0829level0_row1\" class=\"row_heading level0 row1\" >Idastidru52</th>\n",
       "                        <td id=\"T_04977fa6_3046_11ea_8b99_7446a08c0829row1_col0\" class=\"data row1 col0\" >4</td>\n",
       "                        <td id=\"T_04977fa6_3046_11ea_8b99_7446a08c0829row1_col1\" class=\"data row1 col1\" >$3.86</td>\n",
       "                        <td id=\"T_04977fa6_3046_11ea_8b99_7446a08c0829row1_col2\" class=\"data row1 col2\" >$15.45</td>\n",
       "            </tr>\n",
       "            <tr>\n",
       "                        <th id=\"T_04977fa6_3046_11ea_8b99_7446a08c0829level0_row2\" class=\"row_heading level0 row2\" >Chamjask73</th>\n",
       "                        <td id=\"T_04977fa6_3046_11ea_8b99_7446a08c0829row2_col0\" class=\"data row2 col0\" >3</td>\n",
       "                        <td id=\"T_04977fa6_3046_11ea_8b99_7446a08c0829row2_col1\" class=\"data row2 col1\" >$4.61</td>\n",
       "                        <td id=\"T_04977fa6_3046_11ea_8b99_7446a08c0829row2_col2\" class=\"data row2 col2\" >$13.83</td>\n",
       "            </tr>\n",
       "            <tr>\n",
       "                        <th id=\"T_04977fa6_3046_11ea_8b99_7446a08c0829level0_row3\" class=\"row_heading level0 row3\" >Iral74</th>\n",
       "                        <td id=\"T_04977fa6_3046_11ea_8b99_7446a08c0829row3_col0\" class=\"data row3 col0\" >4</td>\n",
       "                        <td id=\"T_04977fa6_3046_11ea_8b99_7446a08c0829row3_col1\" class=\"data row3 col1\" >$3.40</td>\n",
       "                        <td id=\"T_04977fa6_3046_11ea_8b99_7446a08c0829row3_col2\" class=\"data row3 col2\" >$13.62</td>\n",
       "            </tr>\n",
       "            <tr>\n",
       "                        <th id=\"T_04977fa6_3046_11ea_8b99_7446a08c0829level0_row4\" class=\"row_heading level0 row4\" >Iskadarya95</th>\n",
       "                        <td id=\"T_04977fa6_3046_11ea_8b99_7446a08c0829row4_col0\" class=\"data row4 col0\" >3</td>\n",
       "                        <td id=\"T_04977fa6_3046_11ea_8b99_7446a08c0829row4_col1\" class=\"data row4 col1\" >$4.37</td>\n",
       "                        <td id=\"T_04977fa6_3046_11ea_8b99_7446a08c0829row4_col2\" class=\"data row4 col2\" >$13.10</td>\n",
       "            </tr>\n",
       "    </tbody></table>"
      ],
      "text/plain": [
       "<pandas.io.formats.style.Styler at 0x94f8d08>"
      ]
     },
     "execution_count": 8,
     "metadata": {},
     "output_type": "execute_result"
    }
   ],
   "source": [
    "spender_group = purchase_data.groupby(\"SN\")\n",
    "purchase_count_spender = spender_group[\"Purchase ID\"].count()\n",
    "average_purchase_price_spender = spender_group[\"Price\"].mean()\n",
    "total_purchase_spender = spender_group[\"Price\"].sum()\n",
    "\n",
    "top_spenders = pd.DataFrame({\n",
    "    \"Purchase Count\": purchase_count_spender,\n",
    "    \"Average Purchase Price\": average_purchase_price_spender,\n",
    "    \"Total Purchase Value\":total_purchase_spender})\n",
    "\n",
    "top_spenders_ascend = top_spenders.sort_values([\"Total Purchase Value\"], ascending=False).head()\n",
    "top_spenders_ascend.style.format({\n",
    "    \"Average Purchase Price\":\"${:,.2f}\", \n",
    "    \"Total Purchase Value\":\"${:,.2f}\"})"
   ]
  },
  {
   "cell_type": "markdown",
   "metadata": {},
   "source": [
    "## Most Popular Items"
   ]
  },
  {
   "cell_type": "markdown",
   "metadata": {},
   "source": [
    "* Retrieve the Item ID, Item Name, and Item Price columns\n",
    "\n",
    "\n",
    "* Group by Item ID and Item Name. Perform calculations to obtain purchase count, item price, and total purchase value\n",
    "\n",
    "\n",
    "* Create a summary data frame to hold the results\n",
    "\n",
    "\n",
    "* Sort the purchase count column in descending order\n",
    "\n",
    "\n",
    "* Optional: give the displayed data cleaner formatting\n",
    "\n",
    "\n",
    "* Display a preview of the summary data frame\n",
    "\n"
   ]
  },
  {
   "cell_type": "code",
   "execution_count": 9,
   "metadata": {},
   "outputs": [
    {
     "data": {
      "text/html": [
       "<style  type=\"text/css\" >\n",
       "</style><table id=\"T_04a08078_3046_11ea_b981_7446a08c0829\" ><thead>    <tr>        <th class=\"blank\" ></th>        <th class=\"blank level0\" ></th>        <th class=\"col_heading level0 col0\" >Purchase Count</th>        <th class=\"col_heading level0 col1\" >Item Price</th>        <th class=\"col_heading level0 col2\" >Total Purchase Value</th>    </tr>    <tr>        <th class=\"index_name level0\" >Item ID</th>        <th class=\"index_name level1\" >Item Name</th>        <th class=\"blank\" ></th>        <th class=\"blank\" ></th>        <th class=\"blank\" ></th>    </tr></thead><tbody>\n",
       "                <tr>\n",
       "                        <th id=\"T_04a08078_3046_11ea_b981_7446a08c0829level0_row0\" class=\"row_heading level0 row0\" >178</th>\n",
       "                        <th id=\"T_04a08078_3046_11ea_b981_7446a08c0829level1_row0\" class=\"row_heading level1 row0\" >Oathbreaker, Last Hope of the Breaking Storm</th>\n",
       "                        <td id=\"T_04a08078_3046_11ea_b981_7446a08c0829row0_col0\" class=\"data row0 col0\" >12</td>\n",
       "                        <td id=\"T_04a08078_3046_11ea_b981_7446a08c0829row0_col1\" class=\"data row0 col1\" >$4.23</td>\n",
       "                        <td id=\"T_04a08078_3046_11ea_b981_7446a08c0829row0_col2\" class=\"data row0 col2\" >$50.76</td>\n",
       "            </tr>\n",
       "            <tr>\n",
       "                        <th id=\"T_04a08078_3046_11ea_b981_7446a08c0829level0_row1\" class=\"row_heading level0 row1\" >145</th>\n",
       "                        <th id=\"T_04a08078_3046_11ea_b981_7446a08c0829level1_row1\" class=\"row_heading level1 row1\" >Fiery Glass Crusader</th>\n",
       "                        <td id=\"T_04a08078_3046_11ea_b981_7446a08c0829row1_col0\" class=\"data row1 col0\" >9</td>\n",
       "                        <td id=\"T_04a08078_3046_11ea_b981_7446a08c0829row1_col1\" class=\"data row1 col1\" >$4.58</td>\n",
       "                        <td id=\"T_04a08078_3046_11ea_b981_7446a08c0829row1_col2\" class=\"data row1 col2\" >$41.22</td>\n",
       "            </tr>\n",
       "            <tr>\n",
       "                        <th id=\"T_04a08078_3046_11ea_b981_7446a08c0829level0_row2\" class=\"row_heading level0 row2\" >108</th>\n",
       "                        <th id=\"T_04a08078_3046_11ea_b981_7446a08c0829level1_row2\" class=\"row_heading level1 row2\" >Extraction, Quickblade Of Trembling Hands</th>\n",
       "                        <td id=\"T_04a08078_3046_11ea_b981_7446a08c0829row2_col0\" class=\"data row2 col0\" >9</td>\n",
       "                        <td id=\"T_04a08078_3046_11ea_b981_7446a08c0829row2_col1\" class=\"data row2 col1\" >$3.53</td>\n",
       "                        <td id=\"T_04a08078_3046_11ea_b981_7446a08c0829row2_col2\" class=\"data row2 col2\" >$31.77</td>\n",
       "            </tr>\n",
       "            <tr>\n",
       "                        <th id=\"T_04a08078_3046_11ea_b981_7446a08c0829level0_row3\" class=\"row_heading level0 row3\" >82</th>\n",
       "                        <th id=\"T_04a08078_3046_11ea_b981_7446a08c0829level1_row3\" class=\"row_heading level1 row3\" >Nirvana</th>\n",
       "                        <td id=\"T_04a08078_3046_11ea_b981_7446a08c0829row3_col0\" class=\"data row3 col0\" >9</td>\n",
       "                        <td id=\"T_04a08078_3046_11ea_b981_7446a08c0829row3_col1\" class=\"data row3 col1\" >$4.90</td>\n",
       "                        <td id=\"T_04a08078_3046_11ea_b981_7446a08c0829row3_col2\" class=\"data row3 col2\" >$44.10</td>\n",
       "            </tr>\n",
       "            <tr>\n",
       "                        <th id=\"T_04a08078_3046_11ea_b981_7446a08c0829level0_row4\" class=\"row_heading level0 row4\" >19</th>\n",
       "                        <th id=\"T_04a08078_3046_11ea_b981_7446a08c0829level1_row4\" class=\"row_heading level1 row4\" >Pursuit, Cudgel of Necromancy</th>\n",
       "                        <td id=\"T_04a08078_3046_11ea_b981_7446a08c0829row4_col0\" class=\"data row4 col0\" >8</td>\n",
       "                        <td id=\"T_04a08078_3046_11ea_b981_7446a08c0829row4_col1\" class=\"data row4 col1\" >$1.02</td>\n",
       "                        <td id=\"T_04a08078_3046_11ea_b981_7446a08c0829row4_col2\" class=\"data row4 col2\" >$8.16</td>\n",
       "            </tr>\n",
       "    </tbody></table>"
      ],
      "text/plain": [
       "<pandas.io.formats.style.Styler at 0x9506fc8>"
      ]
     },
     "execution_count": 9,
     "metadata": {},
     "output_type": "execute_result"
    }
   ],
   "source": [
    "item_df = purchase_data[[\"Item ID\", \"Item Name\", \"Price\"]]\n",
    "item_id_group = item_df.groupby([\"Item ID\",\"Item Name\"])\n",
    "purchase_count_item = item_id_group[\"Price\"].count()\n",
    "total_purchase_value = (item_id_group[\"Price\"].sum())\n",
    "item_price = total_purchase_value / purchase_count_item\n",
    "\n",
    "most_popular_items = pd.DataFrame({\n",
    "    \"Purchase Count\": purchase_count_item, \n",
    "    \"Item Price\": item_price,\n",
    "    \"Total Purchase Value\": total_purchase_value})\n",
    "\n",
    "popular_ascend = most_popular_items.sort_values(\n",
    "    [\"Purchase Count\"], ascending=False).head()\n",
    "popular_ascend.style.format({\n",
    "    \"Item Price\":\"${:,.2f}\",\n",
    "    \"Total Purchase Value\":\"${:,.2f}\"})"
   ]
  },
  {
   "cell_type": "markdown",
   "metadata": {},
   "source": [
    "## Most Profitable Items"
   ]
  },
  {
   "cell_type": "markdown",
   "metadata": {},
   "source": [
    "* Sort the above table by total purchase value in descending order\n",
    "\n",
    "\n",
    "* Optional: give the displayed data cleaner formatting\n",
    "\n",
    "\n",
    "* Display a preview of the data frame\n",
    "\n"
   ]
  },
  {
   "cell_type": "code",
   "execution_count": 10,
   "metadata": {},
   "outputs": [
    {
     "data": {
      "text/html": [
       "<style  type=\"text/css\" >\n",
       "</style><table id=\"T_04a625de_3046_11ea_99be_7446a08c0829\" ><thead>    <tr>        <th class=\"blank\" ></th>        <th class=\"blank level0\" ></th>        <th class=\"col_heading level0 col0\" >Purchase Count</th>        <th class=\"col_heading level0 col1\" >Item Price</th>        <th class=\"col_heading level0 col2\" >Total Purchase Value</th>    </tr>    <tr>        <th class=\"index_name level0\" >Item ID</th>        <th class=\"index_name level1\" >Item Name</th>        <th class=\"blank\" ></th>        <th class=\"blank\" ></th>        <th class=\"blank\" ></th>    </tr></thead><tbody>\n",
       "                <tr>\n",
       "                        <th id=\"T_04a625de_3046_11ea_99be_7446a08c0829level0_row0\" class=\"row_heading level0 row0\" >178</th>\n",
       "                        <th id=\"T_04a625de_3046_11ea_99be_7446a08c0829level1_row0\" class=\"row_heading level1 row0\" >Oathbreaker, Last Hope of the Breaking Storm</th>\n",
       "                        <td id=\"T_04a625de_3046_11ea_99be_7446a08c0829row0_col0\" class=\"data row0 col0\" >12</td>\n",
       "                        <td id=\"T_04a625de_3046_11ea_99be_7446a08c0829row0_col1\" class=\"data row0 col1\" >$4.23</td>\n",
       "                        <td id=\"T_04a625de_3046_11ea_99be_7446a08c0829row0_col2\" class=\"data row0 col2\" >$50.76</td>\n",
       "            </tr>\n",
       "            <tr>\n",
       "                        <th id=\"T_04a625de_3046_11ea_99be_7446a08c0829level0_row1\" class=\"row_heading level0 row1\" >82</th>\n",
       "                        <th id=\"T_04a625de_3046_11ea_99be_7446a08c0829level1_row1\" class=\"row_heading level1 row1\" >Nirvana</th>\n",
       "                        <td id=\"T_04a625de_3046_11ea_99be_7446a08c0829row1_col0\" class=\"data row1 col0\" >9</td>\n",
       "                        <td id=\"T_04a625de_3046_11ea_99be_7446a08c0829row1_col1\" class=\"data row1 col1\" >$4.90</td>\n",
       "                        <td id=\"T_04a625de_3046_11ea_99be_7446a08c0829row1_col2\" class=\"data row1 col2\" >$44.10</td>\n",
       "            </tr>\n",
       "            <tr>\n",
       "                        <th id=\"T_04a625de_3046_11ea_99be_7446a08c0829level0_row2\" class=\"row_heading level0 row2\" >145</th>\n",
       "                        <th id=\"T_04a625de_3046_11ea_99be_7446a08c0829level1_row2\" class=\"row_heading level1 row2\" >Fiery Glass Crusader</th>\n",
       "                        <td id=\"T_04a625de_3046_11ea_99be_7446a08c0829row2_col0\" class=\"data row2 col0\" >9</td>\n",
       "                        <td id=\"T_04a625de_3046_11ea_99be_7446a08c0829row2_col1\" class=\"data row2 col1\" >$4.58</td>\n",
       "                        <td id=\"T_04a625de_3046_11ea_99be_7446a08c0829row2_col2\" class=\"data row2 col2\" >$41.22</td>\n",
       "            </tr>\n",
       "            <tr>\n",
       "                        <th id=\"T_04a625de_3046_11ea_99be_7446a08c0829level0_row3\" class=\"row_heading level0 row3\" >92</th>\n",
       "                        <th id=\"T_04a625de_3046_11ea_99be_7446a08c0829level1_row3\" class=\"row_heading level1 row3\" >Final Critic</th>\n",
       "                        <td id=\"T_04a625de_3046_11ea_99be_7446a08c0829row3_col0\" class=\"data row3 col0\" >8</td>\n",
       "                        <td id=\"T_04a625de_3046_11ea_99be_7446a08c0829row3_col1\" class=\"data row3 col1\" >$4.88</td>\n",
       "                        <td id=\"T_04a625de_3046_11ea_99be_7446a08c0829row3_col2\" class=\"data row3 col2\" >$39.04</td>\n",
       "            </tr>\n",
       "            <tr>\n",
       "                        <th id=\"T_04a625de_3046_11ea_99be_7446a08c0829level0_row4\" class=\"row_heading level0 row4\" >103</th>\n",
       "                        <th id=\"T_04a625de_3046_11ea_99be_7446a08c0829level1_row4\" class=\"row_heading level1 row4\" >Singed Scalpel</th>\n",
       "                        <td id=\"T_04a625de_3046_11ea_99be_7446a08c0829row4_col0\" class=\"data row4 col0\" >8</td>\n",
       "                        <td id=\"T_04a625de_3046_11ea_99be_7446a08c0829row4_col1\" class=\"data row4 col1\" >$4.35</td>\n",
       "                        <td id=\"T_04a625de_3046_11ea_99be_7446a08c0829row4_col2\" class=\"data row4 col2\" >$34.80</td>\n",
       "            </tr>\n",
       "    </tbody></table>"
      ],
      "text/plain": [
       "<pandas.io.formats.style.Styler at 0x94e6f48>"
      ]
     },
     "execution_count": 10,
     "metadata": {},
     "output_type": "execute_result"
    }
   ],
   "source": [
    "most_profitable_descend = most_popular_items.sort_values([\"Total Purchase Value\"],\n",
    "                                                ascending=False).head()\n",
    "most_profitable_descend.style.format({\n",
    "    \"Item Price\":\"${:,.2f}\",\n",
    "    \"Total Purchase Value\":\"${:,.2f}\"})"
   ]
  },
  {
   "cell_type": "markdown",
   "metadata": {},
   "source": [
    "While male players make up the majority of the gender demographic, the average purchase price of males is lower than that of female or other/non-disclosed players. A side note is that the average purchase price difference is within $0.50 or 9.12 percent of the highest average purchase price for females. With the majority of players being male, the total purchase value of males vastly exceeds that of females and other/non-disclosed players.\n",
    "\n",
    "The majority of players are between the ages 20-24, which holds the highest total purchase value by age. The highest average purchase prices are held by age groups <10 and 35-39; however, the decreased sample size could be skewing this as these age groups have some of the fewest players. \n",
    "\n",
    "The highest purchase value and purchase count of items is Oathbreaker, Last Hope of the Breaking Storm, indicating that this is the most popular and profitable item despite the highest average item price falling under the item Nirvana. "
   ]
  },
  {
   "cell_type": "code",
   "execution_count": null,
   "metadata": {},
   "outputs": [],
   "source": []
  }
 ],
 "metadata": {
  "anaconda-cloud": {},
  "kernel_info": {
   "name": "python3"
  },
  "kernelspec": {
   "display_name": "Python 3",
   "language": "python",
   "name": "python3"
  },
  "language_info": {
   "codemirror_mode": {
    "name": "ipython",
    "version": 3
   },
   "file_extension": ".py",
   "mimetype": "text/x-python",
   "name": "python",
   "nbconvert_exporter": "python",
   "pygments_lexer": "ipython3",
   "version": "3.7.4"
  },
  "latex_envs": {
   "LaTeX_envs_menu_present": true,
   "autoclose": false,
   "autocomplete": true,
   "bibliofile": "biblio.bib",
   "cite_by": "apalike",
   "current_citInitial": 1,
   "eqLabelWithNumbers": true,
   "eqNumInitial": 1,
   "hotkeys": {
    "equation": "Ctrl-E",
    "itemize": "Ctrl-I"
   },
   "labels_anchors": false,
   "latex_user_defs": false,
   "report_style_numbering": false,
   "user_envs_cfg": false
  },
  "nteract": {
   "version": "0.2.0"
  }
 },
 "nbformat": 4,
 "nbformat_minor": 2
}
